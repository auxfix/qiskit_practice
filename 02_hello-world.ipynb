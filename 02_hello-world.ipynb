{
 "cells": [
  {
   "cell_type": "markdown",
   "metadata": {},
   "source": [
    "Do the Quantum HelloWorld on 2-qbit Bell state"
   ]
  }
 ],
 "metadata": {
  "kernelspec": {
   "display_name": "q_00",
   "language": "python",
   "name": "python3"
  },
  "language_info": {
   "name": "python",
   "version": "3.13.5"
  }
 },
 "nbformat": 4,
 "nbformat_minor": 2
}
